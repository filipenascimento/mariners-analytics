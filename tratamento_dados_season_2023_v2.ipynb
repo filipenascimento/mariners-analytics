{
  "nbformat": 4,
  "nbformat_minor": 0,
  "metadata": {
    "colab": {
      "provenance": []
    },
    "kernelspec": {
      "name": "python3",
      "display_name": "Python 3"
    },
    "language_info": {
      "name": "python"
    }
  },
  "cells": [
    {
      "cell_type": "code",
      "source": [
        "!pip install duckdb"
      ],
      "metadata": {
        "colab": {
          "base_uri": "https://localhost:8080/"
        },
        "id": "zCorHcrdxFHd",
        "outputId": "601aa705-edbf-48d7-89ff-952538d4f086"
      },
      "execution_count": 1,
      "outputs": [
        {
          "output_type": "stream",
          "name": "stdout",
          "text": [
            "Requirement already satisfied: duckdb in /usr/local/lib/python3.10/dist-packages (0.10.2)\n"
          ]
        }
      ]
    },
    {
      "cell_type": "code",
      "execution_count": 2,
      "metadata": {
        "id": "UxSLRQnaSML7"
      },
      "outputs": [],
      "source": [
        "import pandas as pd"
      ]
    },
    {
      "cell_type": "code",
      "source": [
        "df_almirantes = pd.read_excel('/content/drive/MyDrive/1.MarinersAnalytics/season_2023_datasources/mariners_almirantes_2023 atualizado.xlsx', sheet_name='Sheet1')"
      ],
      "metadata": {
        "id": "cj7hEawpSZSA"
      },
      "execution_count": 3,
      "outputs": []
    },
    {
      "cell_type": "code",
      "source": [
        "df_carrancas = pd.read_excel('/content/drive/MyDrive/1.MarinersAnalytics/season_2023_datasources/mariners_carrancas_2023.xlsx', sheet_name='Sheet1')"
      ],
      "metadata": {
        "id": "76AV-zasStUx"
      },
      "execution_count": 4,
      "outputs": []
    },
    {
      "cell_type": "code",
      "source": [
        "df_cavalaria = pd.read_excel('/content/drive/MyDrive/1.MarinersAnalytics/season_2023_datasources/mariners_cavalaria_2023.xlsx', sheet_name='Sheet1')"
      ],
      "metadata": {
        "id": "LtO2K1RXTPo4"
      },
      "execution_count": 5,
      "outputs": []
    },
    {
      "cell_type": "code",
      "source": [
        "df_espectros_1 = pd.read_excel('/content/drive/MyDrive/1.MarinersAnalytics/season_2023_datasources/mariners_espectros_2023.xlsx', sheet_name='Sheet1')"
      ],
      "metadata": {
        "id": "n_WVRFd7TYvr"
      },
      "execution_count": 6,
      "outputs": []
    },
    {
      "cell_type": "code",
      "source": [
        "df_espectros_poff = pd.read_excel('/content/drive/MyDrive/1.MarinersAnalytics/season_2023_datasources/mariners_espectros_poff_2023.xlsx', sheet_name='Sheet1')"
      ],
      "metadata": {
        "id": "bGXHoISUTfsE"
      },
      "execution_count": 7,
      "outputs": []
    },
    {
      "cell_type": "code",
      "source": [
        "df_redentores = pd.read_excel('/content/drive/MyDrive/1.MarinersAnalytics/season_2023_datasources/mariners_redentores_2023.xlsx', sheet_name='Sheet1')"
      ],
      "metadata": {
        "id": "wMzGQscwTmc1"
      },
      "execution_count": 8,
      "outputs": []
    },
    {
      "cell_type": "code",
      "source": [
        "df_scorpions = pd.read_excel('/content/drive/MyDrive/1.MarinersAnalytics/season_2023_datasources/mariners_scorpions_2023.xlsx', sheet_name='Sheet1')"
      ],
      "metadata": {
        "id": "YIlAgv9vTteu"
      },
      "execution_count": 9,
      "outputs": []
    },
    {
      "cell_type": "code",
      "source": [
        "df_tritoes = pd.read_excel('/content/drive/MyDrive/1.MarinersAnalytics/season_2023_datasources/mariners_tritoes_2023 atualizado.xlsx', sheet_name='Sheet1')"
      ],
      "metadata": {
        "id": "usNUDwBkT1Wp"
      },
      "execution_count": 10,
      "outputs": []
    },
    {
      "cell_type": "code",
      "source": [
        "for i in [df_tritoes, df_espectros_1, df_scorpions, df_redentores, df_almirantes, df_carrancas, df_espectros_poff, df_cavalaria] :\n",
        "  print(f'colunas {i.columns} com total de {len(i.columns)}')\n",
        "\n"
      ],
      "metadata": {
        "colab": {
          "base_uri": "https://localhost:8080/"
        },
        "id": "_GYjgaGnT8Yw",
        "outputId": "43dca118-c691-434c-a19f-92e7e98a5091",
        "collapsed": true
      },
      "execution_count": 11,
      "outputs": [
        {
          "output_type": "stream",
          "name": "stdout",
          "text": [
            "colunas Index(['PLAY #', 'ODK', 'DN', 'DIST', 'HASH', 'YARD LN', 'PLAY TYPE', 'RESULT',\n",
            "       'GN/LS', 'OFF FORM', 'OFF PLAY', 'OFF STR', 'PLAY DIR', 'GAP',\n",
            "       'PASS ZONE', 'DEF FRONT', 'COVERAGE', 'BLITZ', 'QTR', 'RB NEAR/FAR'],\n",
            "      dtype='object') com total de 20\n",
            "colunas Index(['PLAY #', 'ODK', 'DN', 'DIST', 'HASH', 'YARD LN', 'PLAY TYPE', 'RESULT',\n",
            "       'GN/LS', 'OFF FORM', 'OFF PLAY', 'OFF STR', 'PLAY DIR', 'GAP',\n",
            "       'PASS ZONE', 'DEF FRONT', 'COVERAGE', 'BLITZ', 'QTR', 'RB NEAR/FAR'],\n",
            "      dtype='object') com total de 20\n",
            "colunas Index(['PLAY #', 'ODK', 'DN', 'DIST', 'HASH', 'YARD LN', 'PLAY TYPE', 'RESULT',\n",
            "       'GN/LS', 'OFF FORM', 'OFF PLAY', 'OFF STR', 'PLAY DIR', 'GAP',\n",
            "       'PASS ZONE', 'DEF FRONT', 'COVERAGE', 'BLITZ', 'QTR', 'RB NEAR/FAR'],\n",
            "      dtype='object') com total de 20\n",
            "colunas Index(['PLAY #', 'ODK', 'DN', 'DIST', 'HASH', 'YARD LN', 'PLAY TYPE', 'RESULT',\n",
            "       'GN/LS', 'OFF FORM', 'OFF PLAY', 'OFF STR', 'PLAY DIR', 'GAP',\n",
            "       'PASS ZONE', 'DEF FRONT', 'COVERAGE', 'BLITZ', 'QTR', 'RB NEAR/FAR'],\n",
            "      dtype='object') com total de 20\n",
            "colunas Index(['PLAY #', 'ODK', 'DN', 'DIST', 'HASH', 'YARD LN', 'PLAY TYPE', 'RESULT',\n",
            "       'GN/LS', 'OFF FORM', 'OFF PLAY', 'OFF STR', 'PLAY DIR', 'GAP',\n",
            "       'PASS ZONE', 'DEF FRONT', 'COVERAGE', 'BLITZ', 'QTR', 'RB NEAR/FAR',\n",
            "       'Opponent', 'Season'],\n",
            "      dtype='object') com total de 22\n",
            "colunas Index(['PLAY #', 'ODK', 'DN', 'DIST', 'HASH', 'YARD LN', 'PLAY TYPE', 'RESULT',\n",
            "       'GN/LS', 'OFF FORM', 'OFF PLAY', 'OFF STR', 'PLAY DIR', 'GAP',\n",
            "       'PASS ZONE', 'DEF FRONT', 'COVERAGE', 'BLITZ', 'QTR', 'RB NEAR/FAR'],\n",
            "      dtype='object') com total de 20\n",
            "colunas Index(['PLAY #', 'ODK', 'DN', 'DIST', 'HASH', 'YARD LN', 'PLAY TYPE', 'RESULT',\n",
            "       'GN/LS', 'OFF FORM', 'OFF PLAY', 'OFF STR', 'PLAY DIR', 'GAP',\n",
            "       'PASS ZONE', 'DEF FRONT', 'COVERAGE', 'BLITZ', 'QTR', 'RB NEAR/FAR'],\n",
            "      dtype='object') com total de 20\n",
            "colunas Index(['PLAY #', 'ODK', 'DN', 'DIST', 'HASH', 'YARD LN', 'PLAY TYPE', 'RESULT',\n",
            "       'GN/LS', 'OFF FORM', 'OFF PLAY', 'OFF STR', 'PLAY DIR', 'GAP',\n",
            "       'PASS ZONE', 'DEF FRONT', 'COVERAGE', 'BLITZ', 'QTR', 'RB NEAR/FAR'],\n",
            "      dtype='object') com total de 20\n"
          ]
        }
      ]
    },
    {
      "cell_type": "code",
      "source": [
        "#Incluindo os times no DF\n",
        "df_almirantes['oponente'] = 'Almirantes'\n",
        "df_tritoes['oponente'] = 'Tritoes'\n",
        "df_espectros_1['oponente'] = 'Espectros'\n",
        "df_scorpions['oponente'] = 'Scorpions'\n",
        "df_redentores['oponente'] = 'Redentores'\n",
        "df_carrancas['oponente'] = 'Carrancas'\n",
        "df_espectros_poff['oponente'] = 'Espectros'\n",
        "df_cavalaria['oponente'] = 'Cavalaria'"
      ],
      "metadata": {
        "id": "1lBP2QwoULhd"
      },
      "execution_count": 12,
      "outputs": []
    },
    {
      "cell_type": "code",
      "source": [
        "#Incluindo a fase em houve o enfrentamento\n",
        "df_almirantes['fase'] = 'Playoff-Nacional'\n",
        "df_tritoes['fase'] = 'Final-Regional'\n",
        "df_espectros_1['fase'] = 'Regular'\n",
        "df_scorpions['fase'] = 'Regular'\n",
        "df_redentores['fase'] = 'Regular'\n",
        "df_carrancas['fase'] = 'Regular'\n",
        "df_espectros_poff['fase'] = 'Playoff-Regional'\n",
        "df_cavalaria['fase'] = 'Regular'"
      ],
      "metadata": {
        "id": "VIoHrJGQUW4Y"
      },
      "execution_count": 13,
      "outputs": []
    },
    {
      "cell_type": "code",
      "source": [
        "#Incluindo a ordem dos jogos\n",
        "df_almirantes['ordem'] = '9'\n",
        "df_tritoes['ordem'] = '8'\n",
        "df_espectros_1['ordem'] = '5'\n",
        "df_scorpions['ordem'] = '1'\n",
        "df_redentores['ordem'] = '3'\n",
        "df_carrancas['ordem'] = '4'\n",
        "df_espectros_poff['ordem'] = '7'\n",
        "df_cavalaria['ordem'] = '2'"
      ],
      "metadata": {
        "id": "CwmLuHcvU7dk"
      },
      "execution_count": 14,
      "outputs": []
    },
    {
      "cell_type": "code",
      "source": [
        "#incluindo o home / away\n",
        "df_almirantes['host'] = 'home'\n",
        "df_tritoes['host'] = 'home'\n",
        "df_espectros_1['host'] = 'home'\n",
        "df_scorpions['host'] = 'away'\n",
        "df_redentores['host'] = 'home'\n",
        "df_carrancas['host'] = 'home'\n",
        "df_espectros_poff['host'] = 'home'\n",
        "df_cavalaria['host'] = 'away'"
      ],
      "metadata": {
        "id": "UZZsIfJTU-wS"
      },
      "execution_count": 15,
      "outputs": []
    },
    {
      "cell_type": "code",
      "source": [
        "# prompt: generate a function who receives a list of pandas dataframe and merge all of them into one single pandas dataframe\n",
        "\n",
        "import pandas as pd\n",
        "def merge_dataframes(df_list):\n",
        "  \"\"\"\n",
        "  Merges a list of pandas dataframes into a single dataframe.\n",
        "\n",
        "  Args:\n",
        "      df_list: A list of pandas dataframes.\n",
        "\n",
        "  Returns:\n",
        "      A pandas dataframe containing the merged data.\n",
        "  \"\"\"\n",
        "\n",
        "  merged_df = pd.concat(df_list, ignore_index=True)\n",
        "  return merged_df\n",
        "\n",
        "# Merge all dataframes into a single dataframe\n",
        "merged_df = merge_dataframes([df_almirantes, df_tritoes, df_espectros_1, df_scorpions, df_redentores, df_carrancas, df_espectros_poff, df_cavalaria])\n",
        "\n",
        "# Print the merged dataframe\n",
        "print(merged_df)\n"
      ],
      "metadata": {
        "id": "zmCNkny_YSGV",
        "colab": {
          "base_uri": "https://localhost:8080/"
        },
        "outputId": "da533538-7a8b-47ef-f04d-3eb426336a17",
        "collapsed": true
      },
      "execution_count": 16,
      "outputs": [
        {
          "output_type": "stream",
          "name": "stdout",
          "text": [
            "      PLAY # ODK   DN  DIST HASH  YARD LN PLAY TYPE    RESULT  GN/LS OFF FORM  \\\n",
            "0          1   K  NaN   NaN  NaN      NaN        KO    Return    NaN  SPECIAL   \n",
            "1          2   O  1.0  10.0    R    -25.0      Pass  Complete    4.0      ACE   \n",
            "2          3   O  2.0   6.0    L    -29.0      Pass  Complete   15.0      DUO   \n",
            "3          4   O  1.0  10.0    L    -47.0       NaN   Penalty   -5.0      ACE   \n",
            "4          5   O  1.0  15.0    L    -42.0      Pass    Fumble   59.0    TRIPS   \n",
            "...      ...  ..  ...   ...  ...      ...       ...       ...    ...      ...   \n",
            "1068     136   K  NaN   NaN  NaN      NaN       NaN       NaN    NaN      NaN   \n",
            "1069     137   D  1.0  10.0  NaN    -20.0       Run    Downed    5.0      NaN   \n",
            "1070     138   D  2.0   5.0  NaN    -25.0       Run    Downed    2.0      NaN   \n",
            "1071     139   D  3.0   3.0  NaN    -28.0      Pass  Scramble    6.0      NaN   \n",
            "1072     140   D  1.0  10.0  NaN    -39.0       Run    Downed    2.0      NaN   \n",
            "\n",
            "      ... COVERAGE BLITZ  QTR RB NEAR/FAR    Opponent  Season    oponente  \\\n",
            "0     ...      NaN   NaN  1.0         NaN  Almirantes  2023.0  Almirantes   \n",
            "1     ...  Cover 3   0.0  1.0         Far  Almirantes  2023.0  Almirantes   \n",
            "2     ...  Cover 4   NaN  1.0        Near  Almirantes  2023.0  Almirantes   \n",
            "3     ...      NaN   NaN  1.0         Far  Almirantes  2023.0  Almirantes   \n",
            "4     ...  Cover 3   NaN  1.0        Near  Almirantes  2023.0  Almirantes   \n",
            "...   ...      ...   ...  ...         ...         ...     ...         ...   \n",
            "1068  ...      NaN   NaN  NaN         NaN         NaN     NaN   Cavalaria   \n",
            "1069  ...      NaN   NaN  4.0         NaN         NaN     NaN   Cavalaria   \n",
            "1070  ...      NaN   NaN  4.0         NaN         NaN     NaN   Cavalaria   \n",
            "1071  ...      NaN   NaN  4.0         NaN         NaN     NaN   Cavalaria   \n",
            "1072  ...      NaN   NaN  4.0         NaN         NaN     NaN   Cavalaria   \n",
            "\n",
            "                  fase  ordem  host  \n",
            "0     Playoff-Nacional      9  home  \n",
            "1     Playoff-Nacional      9  home  \n",
            "2     Playoff-Nacional      9  home  \n",
            "3     Playoff-Nacional      9  home  \n",
            "4     Playoff-Nacional      9  home  \n",
            "...                ...    ...   ...  \n",
            "1068           Regular      2  away  \n",
            "1069           Regular      2  away  \n",
            "1070           Regular      2  away  \n",
            "1071           Regular      2  away  \n",
            "1072           Regular      2  away  \n",
            "\n",
            "[1073 rows x 26 columns]\n"
          ]
        }
      ]
    },
    {
      "cell_type": "code",
      "source": [
        "merged_df.to_excel('/content/drive/MyDrive/1.MarinersAnalytics/season_2023_datasources/temporada_inteira_menos_imortais_2023_2.xlsx', sheet_name='Sheet1')"
      ],
      "metadata": {
        "id": "wc0-IsrqYsbl"
      },
      "execution_count": 17,
      "outputs": []
    },
    {
      "cell_type": "code",
      "source": [
        "merged_df.to_csv('/content/drive/MyDrive/1.MarinersAnalytics/season_2023_datasources/temporada_inteira_menos_imortais_2023_2.csv')"
      ],
      "metadata": {
        "id": "QxQgqRs22u1t"
      },
      "execution_count": 18,
      "outputs": []
    },
    {
      "cell_type": "code",
      "source": [
        "# --------------------"
      ],
      "metadata": {
        "id": "aDYdpmChCsO2"
      },
      "execution_count": 19,
      "outputs": []
    },
    {
      "cell_type": "code",
      "source": [
        "merged_df.head()"
      ],
      "metadata": {
        "id": "Ip6lmuRSZA6Y",
        "colab": {
          "base_uri": "https://localhost:8080/",
          "height": 236
        },
        "outputId": "370fb50d-ae23-43f5-ade5-a8e96f68d9b8"
      },
      "execution_count": 20,
      "outputs": [
        {
          "output_type": "execute_result",
          "data": {
            "text/plain": [
              "   PLAY # ODK   DN  DIST HASH  YARD LN PLAY TYPE    RESULT  GN/LS OFF FORM  \\\n",
              "0       1   K  NaN   NaN  NaN      NaN        KO    Return    NaN  SPECIAL   \n",
              "1       2   O  1.0  10.0    R    -25.0      Pass  Complete    4.0      ACE   \n",
              "2       3   O  2.0   6.0    L    -29.0      Pass  Complete   15.0      DUO   \n",
              "3       4   O  1.0  10.0    L    -47.0       NaN   Penalty   -5.0      ACE   \n",
              "4       5   O  1.0  15.0    L    -42.0      Pass    Fumble   59.0    TRIPS   \n",
              "\n",
              "   ... COVERAGE BLITZ  QTR RB NEAR/FAR    Opponent  Season    oponente  \\\n",
              "0  ...      NaN   NaN  1.0         NaN  Almirantes  2023.0  Almirantes   \n",
              "1  ...  Cover 3   0.0  1.0         Far  Almirantes  2023.0  Almirantes   \n",
              "2  ...  Cover 4   NaN  1.0        Near  Almirantes  2023.0  Almirantes   \n",
              "3  ...      NaN   NaN  1.0         Far  Almirantes  2023.0  Almirantes   \n",
              "4  ...  Cover 3   NaN  1.0        Near  Almirantes  2023.0  Almirantes   \n",
              "\n",
              "               fase  ordem  host  \n",
              "0  Playoff-Nacional      9  home  \n",
              "1  Playoff-Nacional      9  home  \n",
              "2  Playoff-Nacional      9  home  \n",
              "3  Playoff-Nacional      9  home  \n",
              "4  Playoff-Nacional      9  home  \n",
              "\n",
              "[5 rows x 26 columns]"
            ],
            "text/html": [
              "\n",
              "  <div id=\"df-8bfe1a9c-a93d-41e5-92ed-0d0c31df0b3a\" class=\"colab-df-container\">\n",
              "    <div>\n",
              "<style scoped>\n",
              "    .dataframe tbody tr th:only-of-type {\n",
              "        vertical-align: middle;\n",
              "    }\n",
              "\n",
              "    .dataframe tbody tr th {\n",
              "        vertical-align: top;\n",
              "    }\n",
              "\n",
              "    .dataframe thead th {\n",
              "        text-align: right;\n",
              "    }\n",
              "</style>\n",
              "<table border=\"1\" class=\"dataframe\">\n",
              "  <thead>\n",
              "    <tr style=\"text-align: right;\">\n",
              "      <th></th>\n",
              "      <th>PLAY #</th>\n",
              "      <th>ODK</th>\n",
              "      <th>DN</th>\n",
              "      <th>DIST</th>\n",
              "      <th>HASH</th>\n",
              "      <th>YARD LN</th>\n",
              "      <th>PLAY TYPE</th>\n",
              "      <th>RESULT</th>\n",
              "      <th>GN/LS</th>\n",
              "      <th>OFF FORM</th>\n",
              "      <th>...</th>\n",
              "      <th>COVERAGE</th>\n",
              "      <th>BLITZ</th>\n",
              "      <th>QTR</th>\n",
              "      <th>RB NEAR/FAR</th>\n",
              "      <th>Opponent</th>\n",
              "      <th>Season</th>\n",
              "      <th>oponente</th>\n",
              "      <th>fase</th>\n",
              "      <th>ordem</th>\n",
              "      <th>host</th>\n",
              "    </tr>\n",
              "  </thead>\n",
              "  <tbody>\n",
              "    <tr>\n",
              "      <th>0</th>\n",
              "      <td>1</td>\n",
              "      <td>K</td>\n",
              "      <td>NaN</td>\n",
              "      <td>NaN</td>\n",
              "      <td>NaN</td>\n",
              "      <td>NaN</td>\n",
              "      <td>KO</td>\n",
              "      <td>Return</td>\n",
              "      <td>NaN</td>\n",
              "      <td>SPECIAL</td>\n",
              "      <td>...</td>\n",
              "      <td>NaN</td>\n",
              "      <td>NaN</td>\n",
              "      <td>1.0</td>\n",
              "      <td>NaN</td>\n",
              "      <td>Almirantes</td>\n",
              "      <td>2023.0</td>\n",
              "      <td>Almirantes</td>\n",
              "      <td>Playoff-Nacional</td>\n",
              "      <td>9</td>\n",
              "      <td>home</td>\n",
              "    </tr>\n",
              "    <tr>\n",
              "      <th>1</th>\n",
              "      <td>2</td>\n",
              "      <td>O</td>\n",
              "      <td>1.0</td>\n",
              "      <td>10.0</td>\n",
              "      <td>R</td>\n",
              "      <td>-25.0</td>\n",
              "      <td>Pass</td>\n",
              "      <td>Complete</td>\n",
              "      <td>4.0</td>\n",
              "      <td>ACE</td>\n",
              "      <td>...</td>\n",
              "      <td>Cover 3</td>\n",
              "      <td>0.0</td>\n",
              "      <td>1.0</td>\n",
              "      <td>Far</td>\n",
              "      <td>Almirantes</td>\n",
              "      <td>2023.0</td>\n",
              "      <td>Almirantes</td>\n",
              "      <td>Playoff-Nacional</td>\n",
              "      <td>9</td>\n",
              "      <td>home</td>\n",
              "    </tr>\n",
              "    <tr>\n",
              "      <th>2</th>\n",
              "      <td>3</td>\n",
              "      <td>O</td>\n",
              "      <td>2.0</td>\n",
              "      <td>6.0</td>\n",
              "      <td>L</td>\n",
              "      <td>-29.0</td>\n",
              "      <td>Pass</td>\n",
              "      <td>Complete</td>\n",
              "      <td>15.0</td>\n",
              "      <td>DUO</td>\n",
              "      <td>...</td>\n",
              "      <td>Cover 4</td>\n",
              "      <td>NaN</td>\n",
              "      <td>1.0</td>\n",
              "      <td>Near</td>\n",
              "      <td>Almirantes</td>\n",
              "      <td>2023.0</td>\n",
              "      <td>Almirantes</td>\n",
              "      <td>Playoff-Nacional</td>\n",
              "      <td>9</td>\n",
              "      <td>home</td>\n",
              "    </tr>\n",
              "    <tr>\n",
              "      <th>3</th>\n",
              "      <td>4</td>\n",
              "      <td>O</td>\n",
              "      <td>1.0</td>\n",
              "      <td>10.0</td>\n",
              "      <td>L</td>\n",
              "      <td>-47.0</td>\n",
              "      <td>NaN</td>\n",
              "      <td>Penalty</td>\n",
              "      <td>-5.0</td>\n",
              "      <td>ACE</td>\n",
              "      <td>...</td>\n",
              "      <td>NaN</td>\n",
              "      <td>NaN</td>\n",
              "      <td>1.0</td>\n",
              "      <td>Far</td>\n",
              "      <td>Almirantes</td>\n",
              "      <td>2023.0</td>\n",
              "      <td>Almirantes</td>\n",
              "      <td>Playoff-Nacional</td>\n",
              "      <td>9</td>\n",
              "      <td>home</td>\n",
              "    </tr>\n",
              "    <tr>\n",
              "      <th>4</th>\n",
              "      <td>5</td>\n",
              "      <td>O</td>\n",
              "      <td>1.0</td>\n",
              "      <td>15.0</td>\n",
              "      <td>L</td>\n",
              "      <td>-42.0</td>\n",
              "      <td>Pass</td>\n",
              "      <td>Fumble</td>\n",
              "      <td>59.0</td>\n",
              "      <td>TRIPS</td>\n",
              "      <td>...</td>\n",
              "      <td>Cover 3</td>\n",
              "      <td>NaN</td>\n",
              "      <td>1.0</td>\n",
              "      <td>Near</td>\n",
              "      <td>Almirantes</td>\n",
              "      <td>2023.0</td>\n",
              "      <td>Almirantes</td>\n",
              "      <td>Playoff-Nacional</td>\n",
              "      <td>9</td>\n",
              "      <td>home</td>\n",
              "    </tr>\n",
              "  </tbody>\n",
              "</table>\n",
              "<p>5 rows × 26 columns</p>\n",
              "</div>\n",
              "    <div class=\"colab-df-buttons\">\n",
              "\n",
              "  <div class=\"colab-df-container\">\n",
              "    <button class=\"colab-df-convert\" onclick=\"convertToInteractive('df-8bfe1a9c-a93d-41e5-92ed-0d0c31df0b3a')\"\n",
              "            title=\"Convert this dataframe to an interactive table.\"\n",
              "            style=\"display:none;\">\n",
              "\n",
              "  <svg xmlns=\"http://www.w3.org/2000/svg\" height=\"24px\" viewBox=\"0 -960 960 960\">\n",
              "    <path d=\"M120-120v-720h720v720H120Zm60-500h600v-160H180v160Zm220 220h160v-160H400v160Zm0 220h160v-160H400v160ZM180-400h160v-160H180v160Zm440 0h160v-160H620v160ZM180-180h160v-160H180v160Zm440 0h160v-160H620v160Z\"/>\n",
              "  </svg>\n",
              "    </button>\n",
              "\n",
              "  <style>\n",
              "    .colab-df-container {\n",
              "      display:flex;\n",
              "      gap: 12px;\n",
              "    }\n",
              "\n",
              "    .colab-df-convert {\n",
              "      background-color: #E8F0FE;\n",
              "      border: none;\n",
              "      border-radius: 50%;\n",
              "      cursor: pointer;\n",
              "      display: none;\n",
              "      fill: #1967D2;\n",
              "      height: 32px;\n",
              "      padding: 0 0 0 0;\n",
              "      width: 32px;\n",
              "    }\n",
              "\n",
              "    .colab-df-convert:hover {\n",
              "      background-color: #E2EBFA;\n",
              "      box-shadow: 0px 1px 2px rgba(60, 64, 67, 0.3), 0px 1px 3px 1px rgba(60, 64, 67, 0.15);\n",
              "      fill: #174EA6;\n",
              "    }\n",
              "\n",
              "    .colab-df-buttons div {\n",
              "      margin-bottom: 4px;\n",
              "    }\n",
              "\n",
              "    [theme=dark] .colab-df-convert {\n",
              "      background-color: #3B4455;\n",
              "      fill: #D2E3FC;\n",
              "    }\n",
              "\n",
              "    [theme=dark] .colab-df-convert:hover {\n",
              "      background-color: #434B5C;\n",
              "      box-shadow: 0px 1px 3px 1px rgba(0, 0, 0, 0.15);\n",
              "      filter: drop-shadow(0px 1px 2px rgba(0, 0, 0, 0.3));\n",
              "      fill: #FFFFFF;\n",
              "    }\n",
              "  </style>\n",
              "\n",
              "    <script>\n",
              "      const buttonEl =\n",
              "        document.querySelector('#df-8bfe1a9c-a93d-41e5-92ed-0d0c31df0b3a button.colab-df-convert');\n",
              "      buttonEl.style.display =\n",
              "        google.colab.kernel.accessAllowed ? 'block' : 'none';\n",
              "\n",
              "      async function convertToInteractive(key) {\n",
              "        const element = document.querySelector('#df-8bfe1a9c-a93d-41e5-92ed-0d0c31df0b3a');\n",
              "        const dataTable =\n",
              "          await google.colab.kernel.invokeFunction('convertToInteractive',\n",
              "                                                    [key], {});\n",
              "        if (!dataTable) return;\n",
              "\n",
              "        const docLinkHtml = 'Like what you see? Visit the ' +\n",
              "          '<a target=\"_blank\" href=https://colab.research.google.com/notebooks/data_table.ipynb>data table notebook</a>'\n",
              "          + ' to learn more about interactive tables.';\n",
              "        element.innerHTML = '';\n",
              "        dataTable['output_type'] = 'display_data';\n",
              "        await google.colab.output.renderOutput(dataTable, element);\n",
              "        const docLink = document.createElement('div');\n",
              "        docLink.innerHTML = docLinkHtml;\n",
              "        element.appendChild(docLink);\n",
              "      }\n",
              "    </script>\n",
              "  </div>\n",
              "\n",
              "\n",
              "<div id=\"df-973feb2c-3323-4eb8-968c-6c2c8c624598\">\n",
              "  <button class=\"colab-df-quickchart\" onclick=\"quickchart('df-973feb2c-3323-4eb8-968c-6c2c8c624598')\"\n",
              "            title=\"Suggest charts\"\n",
              "            style=\"display:none;\">\n",
              "\n",
              "<svg xmlns=\"http://www.w3.org/2000/svg\" height=\"24px\"viewBox=\"0 0 24 24\"\n",
              "     width=\"24px\">\n",
              "    <g>\n",
              "        <path d=\"M19 3H5c-1.1 0-2 .9-2 2v14c0 1.1.9 2 2 2h14c1.1 0 2-.9 2-2V5c0-1.1-.9-2-2-2zM9 17H7v-7h2v7zm4 0h-2V7h2v10zm4 0h-2v-4h2v4z\"/>\n",
              "    </g>\n",
              "</svg>\n",
              "  </button>\n",
              "\n",
              "<style>\n",
              "  .colab-df-quickchart {\n",
              "      --bg-color: #E8F0FE;\n",
              "      --fill-color: #1967D2;\n",
              "      --hover-bg-color: #E2EBFA;\n",
              "      --hover-fill-color: #174EA6;\n",
              "      --disabled-fill-color: #AAA;\n",
              "      --disabled-bg-color: #DDD;\n",
              "  }\n",
              "\n",
              "  [theme=dark] .colab-df-quickchart {\n",
              "      --bg-color: #3B4455;\n",
              "      --fill-color: #D2E3FC;\n",
              "      --hover-bg-color: #434B5C;\n",
              "      --hover-fill-color: #FFFFFF;\n",
              "      --disabled-bg-color: #3B4455;\n",
              "      --disabled-fill-color: #666;\n",
              "  }\n",
              "\n",
              "  .colab-df-quickchart {\n",
              "    background-color: var(--bg-color);\n",
              "    border: none;\n",
              "    border-radius: 50%;\n",
              "    cursor: pointer;\n",
              "    display: none;\n",
              "    fill: var(--fill-color);\n",
              "    height: 32px;\n",
              "    padding: 0;\n",
              "    width: 32px;\n",
              "  }\n",
              "\n",
              "  .colab-df-quickchart:hover {\n",
              "    background-color: var(--hover-bg-color);\n",
              "    box-shadow: 0 1px 2px rgba(60, 64, 67, 0.3), 0 1px 3px 1px rgba(60, 64, 67, 0.15);\n",
              "    fill: var(--button-hover-fill-color);\n",
              "  }\n",
              "\n",
              "  .colab-df-quickchart-complete:disabled,\n",
              "  .colab-df-quickchart-complete:disabled:hover {\n",
              "    background-color: var(--disabled-bg-color);\n",
              "    fill: var(--disabled-fill-color);\n",
              "    box-shadow: none;\n",
              "  }\n",
              "\n",
              "  .colab-df-spinner {\n",
              "    border: 2px solid var(--fill-color);\n",
              "    border-color: transparent;\n",
              "    border-bottom-color: var(--fill-color);\n",
              "    animation:\n",
              "      spin 1s steps(1) infinite;\n",
              "  }\n",
              "\n",
              "  @keyframes spin {\n",
              "    0% {\n",
              "      border-color: transparent;\n",
              "      border-bottom-color: var(--fill-color);\n",
              "      border-left-color: var(--fill-color);\n",
              "    }\n",
              "    20% {\n",
              "      border-color: transparent;\n",
              "      border-left-color: var(--fill-color);\n",
              "      border-top-color: var(--fill-color);\n",
              "    }\n",
              "    30% {\n",
              "      border-color: transparent;\n",
              "      border-left-color: var(--fill-color);\n",
              "      border-top-color: var(--fill-color);\n",
              "      border-right-color: var(--fill-color);\n",
              "    }\n",
              "    40% {\n",
              "      border-color: transparent;\n",
              "      border-right-color: var(--fill-color);\n",
              "      border-top-color: var(--fill-color);\n",
              "    }\n",
              "    60% {\n",
              "      border-color: transparent;\n",
              "      border-right-color: var(--fill-color);\n",
              "    }\n",
              "    80% {\n",
              "      border-color: transparent;\n",
              "      border-right-color: var(--fill-color);\n",
              "      border-bottom-color: var(--fill-color);\n",
              "    }\n",
              "    90% {\n",
              "      border-color: transparent;\n",
              "      border-bottom-color: var(--fill-color);\n",
              "    }\n",
              "  }\n",
              "</style>\n",
              "\n",
              "  <script>\n",
              "    async function quickchart(key) {\n",
              "      const quickchartButtonEl =\n",
              "        document.querySelector('#' + key + ' button');\n",
              "      quickchartButtonEl.disabled = true;  // To prevent multiple clicks.\n",
              "      quickchartButtonEl.classList.add('colab-df-spinner');\n",
              "      try {\n",
              "        const charts = await google.colab.kernel.invokeFunction(\n",
              "            'suggestCharts', [key], {});\n",
              "      } catch (error) {\n",
              "        console.error('Error during call to suggestCharts:', error);\n",
              "      }\n",
              "      quickchartButtonEl.classList.remove('colab-df-spinner');\n",
              "      quickchartButtonEl.classList.add('colab-df-quickchart-complete');\n",
              "    }\n",
              "    (() => {\n",
              "      let quickchartButtonEl =\n",
              "        document.querySelector('#df-973feb2c-3323-4eb8-968c-6c2c8c624598 button');\n",
              "      quickchartButtonEl.style.display =\n",
              "        google.colab.kernel.accessAllowed ? 'block' : 'none';\n",
              "    })();\n",
              "  </script>\n",
              "</div>\n",
              "\n",
              "    </div>\n",
              "  </div>\n"
            ],
            "application/vnd.google.colaboratory.intrinsic+json": {
              "type": "dataframe",
              "variable_name": "merged_df"
            }
          },
          "metadata": {},
          "execution_count": 20
        }
      ]
    },
    {
      "cell_type": "code",
      "source": [
        "merged_df.values"
      ],
      "metadata": {
        "colab": {
          "base_uri": "https://localhost:8080/"
        },
        "id": "GzhOdcxZCw-o",
        "outputId": "8e23485d-a52d-4515-8fb0-9be8778f06df"
      },
      "execution_count": null,
      "outputs": [
        {
          "output_type": "execute_result",
          "data": {
            "text/plain": [
              "array([[1, 'K', nan, ..., 'Playoff-Nacional', '9', 'home'],\n",
              "       [2, 'O', 1.0, ..., 'Playoff-Nacional', '9', 'home'],\n",
              "       [3, 'O', 2.0, ..., 'Playoff-Nacional', '9', 'home'],\n",
              "       ...,\n",
              "       [138, 'D', 2.0, ..., 'Regular', '2', 'away'],\n",
              "       [139, 'D', 3.0, ..., 'Regular', '2', 'away'],\n",
              "       [140, 'D', 1.0, ..., 'Regular', '2', 'away']], dtype=object)"
            ]
          },
          "metadata": {},
          "execution_count": 17
        }
      ]
    },
    {
      "cell_type": "code",
      "source": [
        "import duckdb"
      ],
      "metadata": {
        "id": "EwzcqTBKyzO8"
      },
      "execution_count": 21,
      "outputs": []
    },
    {
      "cell_type": "code",
      "source": [
        "con = duckdb.connect()"
      ],
      "metadata": {
        "id": "c8BZNrFGxnR3"
      },
      "execution_count": 22,
      "outputs": []
    },
    {
      "cell_type": "code",
      "source": [
        "con.sql('select * from merged_df limit 5').show(max_width=500)"
      ],
      "metadata": {
        "colab": {
          "base_uri": "https://localhost:8080/"
        },
        "id": "DOVx9KqDxr5F",
        "outputId": "29d29d07-d7a1-42ff-963e-e15df3650a8c"
      },
      "execution_count": 51,
      "outputs": [
        {
          "output_type": "stream",
          "name": "stdout",
          "text": [
            "┌────────┬─────────┬────────┬────────┬─────────┬─────────┬───────────┬──────────┬────────┬──────────┬───────────────────────┬─────────┬──────────┬─────────┬───────────┬─────────────────────┬──────────┬─────────┬────────┬─────────────┬────────────┬────────┬────────────┬──────────────────┬─────────┬─────────┐\n",
            "│ PLAY # │   ODK   │   DN   │  DIST  │  HASH   │ YARD LN │ PLAY TYPE │  RESULT  │ GN/LS  │ OFF FORM │       OFF PLAY        │ OFF STR │ PLAY DIR │   GAP   │ PASS ZONE │      DEF FRONT      │ COVERAGE │  BLITZ  │  QTR   │ RB NEAR/FAR │  Opponent  │ Season │  oponente  │       fase       │  ordem  │  host   │\n",
            "│ int64  │ varchar │ double │ double │ varchar │ double  │  varchar  │ varchar  │ double │ varchar  │        varchar        │ varchar │ varchar  │ varchar │  double   │       varchar       │ varchar  │ varchar │ double │   varchar   │  varchar   │ double │  varchar   │     varchar      │ varchar │ varchar │\n",
            "├────────┼─────────┼────────┼────────┼─────────┼─────────┼───────────┼──────────┼────────┼──────────┼───────────────────────┼─────────┼──────────┼─────────┼───────────┼─────────────────────┼──────────┼─────────┼────────┼─────────────┼────────────┼────────┼────────────┼──────────────────┼─────────┼─────────┤\n",
            "│      1 │ K       │   NULL │   NULL │ NULL    │    NULL │ KO        │ Return   │   NULL │ SPECIAL  │ NULL                  │ NULL    │ NULL     │ NULL    │      NULL │ NULL                │ NULL     │ NULL    │    1.0 │ NULL        │ Almirantes │ 2023.0 │ Almirantes │ Playoff-Nacional │ 9       │ home    │\n",
            "│      2 │ O       │    1.0 │   10.0 │ R       │   -25.0 │ Pass      │ Complete │    4.0 │ ACE      │ (HURRY) COLTS SMOKE   │ R       │ L        │ NULL    │       1.0 │ 2024-02-04 00:00:00 │ Cover 3  │ 0.0     │    1.0 │ Far         │ Almirantes │ 2023.0 │ Almirantes │ Playoff-Nacional │ 9       │ home    │\n",
            "│      3 │ O       │    2.0 │    6.0 │ L       │   -29.0 │ Pass      │ Complete │   15.0 │ DUO      │ POPEYE COLTS SCISSORS │ R       │ L        │ NULL    │       4.0 │ 2024-03-03 00:00:00 │ Cover 4  │ NULL    │    1.0 │ Near        │ Almirantes │ 2023.0 │ Almirantes │ Playoff-Nacional │ 9       │ home    │\n",
            "│      4 │ O       │    1.0 │   10.0 │ L       │   -47.0 │ NULL      │ Penalty  │   -5.0 │ ACE      │ STORM                 │ R       │ L        │ NULL    │      NULL │ NULL                │ NULL     │ NULL    │    1.0 │ Far         │ Almirantes │ 2023.0 │ Almirantes │ Playoff-Nacional │ 9       │ home    │\n",
            "│      5 │ O       │    1.0 │   15.0 │ L       │   -42.0 │ Pass      │ Fumble   │   59.0 │ TRIPS    │ DUKE                  │ R       │ R        │ NULL    │       5.0 │ 2024-03-03 00:00:00 │ Cover 3  │ NULL    │    1.0 │ Near        │ Almirantes │ 2023.0 │ Almirantes │ Playoff-Nacional │ 9       │ home    │\n",
            "└────────┴─────────┴────────┴────────┴─────────┴─────────┴───────────┴──────────┴────────┴──────────┴───────────────────────┴─────────┴──────────┴─────────┴───────────┴─────────────────────┴──────────┴─────────┴────────┴─────────────┴────────────┴────────┴────────────┴──────────────────┴─────────┴─────────┘\n",
            "\n"
          ]
        }
      ]
    },
    {
      "cell_type": "code",
      "source": [
        "def submit_sql(sql):\n",
        "  return con.sql(sql).show(max_width=500)"
      ],
      "metadata": {
        "id": "gRuYyr--x0P8"
      },
      "execution_count": 33,
      "outputs": []
    },
    {
      "cell_type": "code",
      "source": [
        "# show all columns\n",
        "top_10_jogadas_por_jogo = \"select fase, oponente, count(*) from merged_df group by oponente, fase order by count(*) desc limit 10\""
      ],
      "metadata": {
        "id": "NoubplAI0AwW"
      },
      "execution_count": 48,
      "outputs": []
    },
    {
      "cell_type": "code",
      "source": [
        "submit_sql(top_10_jogadas_por_jogo)"
      ],
      "metadata": {
        "colab": {
          "base_uri": "https://localhost:8080/"
        },
        "id": "b7bRAHSH2Gv3",
        "outputId": "fb7ef552-5735-49de-b244-d503aa3e1457"
      },
      "execution_count": 49,
      "outputs": [
        {
          "output_type": "stream",
          "name": "stdout",
          "text": [
            "┌──────────────────┬────────────┬──────────────┐\n",
            "│       fase       │  oponente  │ count_star() │\n",
            "│     varchar      │  varchar   │    int64     │\n",
            "├──────────────────┼────────────┼──────────────┤\n",
            "│ Final-Regional   │ Tritoes    │          162 │\n",
            "│ Regular          │ Espectros  │          155 │\n",
            "│ Regular          │ Cavalaria  │          140 │\n",
            "│ Playoff-Regional │ Espectros  │          134 │\n",
            "│ Playoff-Nacional │ Almirantes │          133 │\n",
            "│ Regular          │ Carrancas  │          120 │\n",
            "│ Regular          │ Redentores │          115 │\n",
            "│ Regular          │ Scorpions  │          114 │\n",
            "└──────────────────┴────────────┴──────────────┘\n",
            "\n"
          ]
        }
      ]
    },
    {
      "cell_type": "code",
      "source": [],
      "metadata": {
        "id": "e64ClXX32JZG"
      },
      "execution_count": null,
      "outputs": []
    }
  ]
}